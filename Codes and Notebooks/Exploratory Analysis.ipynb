{
 "cells": [
  {
   "cell_type": "markdown",
   "metadata": {},
   "source": [
    "# Exploratory Analysis of the Indicators"
   ]
  },
  {
   "cell_type": "code",
   "execution_count": null,
   "metadata": {},
   "outputs": [],
   "source": [
    "#import libraries\n",
    "import numpy as np\n",
    "import pandas as pd\n",
    "import seaborn as sb\n",
    "import matplotlib\n",
    "%matplotlib inline"
   ]
  },
  {
   "cell_type": "code",
   "execution_count": null,
   "metadata": {},
   "outputs": [],
   "source": [
    "#read cleaned data for analysis\n",
    "data_df = pd.read_csv(\"F:\\Key_Economics_Indicator_EDA\\Extracted Data\\IndicatorsData_cleaned.csv\") #data csv path\n",
    "data_df.columns"
   ]
  },
  {
   "cell_type": "code",
   "execution_count": 91,
   "metadata": {},
   "outputs": [
    {
     "data": {
      "text/plain": [
       "Index(['country', 'country code', 'countryiso3code', 'date', 'NE.EXP.GNFS.ZS',\n",
       "       'BX.KLT.DINV.CD.WD', 'NY.GDP.MKTP.CD', 'NY.GDP.MKTP.KD.ZG',\n",
       "       'NE.IMP.GNFS.ZS', 'NY.GDP.DEFL.KD.ZG', 'EN.POP.DNST', 'SP.POP.GROW',\n",
       "       'SP.POP.TOTL', 'AG.SRF.TOTL.K2', 'SP.URB.GROW'],\n",
       "      dtype='object')"
      ]
     },
     "execution_count": 91,
     "metadata": {},
     "output_type": "execute_result"
    }
   ],
   "source": [
    "data_df.columns"
   ]
  },
  {
   "cell_type": "markdown",
   "metadata": {},
   "source": [
    "**Let us first consider only one country to better understand the relationship of the variables**"
   ]
  },
  {
   "cell_type": "code",
   "execution_count": 92,
   "metadata": {},
   "outputs": [],
   "source": [
    "column_rename = { 'NE.EXP.GNFS.ZS': 'Exports percentGDP',\n",
    "       'BX.KLT.DINV.CD.WD':'FDI', 'NY.GDP.MKTP.CD':'GDP', 'NY.GDP.MKTP.KD.ZG':'GDP growth',\n",
    "       'NE.IMP.GNFS.ZS':'Imports percentGDP', 'NY.GDP.DEFL.KD.ZG':'Inflation', 'EN.POP.DNST':'Population Density', 'SP.POP.GROW':'Population Growth',\n",
    "       'SP.POP.TOTL':'Total Population', 'AG.SRF.TOTL.K2':'Total Surface Area', 'SP.URB.GROW':'Population Growth Urban'\n",
    "}"
   ]
  },
  {
   "cell_type": "code",
   "execution_count": 95,
   "metadata": {},
   "outputs": [],
   "source": [
    "data_df.rename(column_rename,axis=1 ,inplace=True, errors='raise')"
   ]
  },
  {
   "cell_type": "code",
   "execution_count": 96,
   "metadata": {},
   "outputs": [
    {
     "data": {
      "text/html": [
       "<div>\n",
       "<style scoped>\n",
       "    .dataframe tbody tr th:only-of-type {\n",
       "        vertical-align: middle;\n",
       "    }\n",
       "\n",
       "    .dataframe tbody tr th {\n",
       "        vertical-align: top;\n",
       "    }\n",
       "\n",
       "    .dataframe thead th {\n",
       "        text-align: right;\n",
       "    }\n",
       "</style>\n",
       "<table border=\"1\" class=\"dataframe\">\n",
       "  <thead>\n",
       "    <tr style=\"text-align: right;\">\n",
       "      <th></th>\n",
       "      <th>country</th>\n",
       "      <th>country code</th>\n",
       "      <th>countryiso3code</th>\n",
       "      <th>date</th>\n",
       "      <th>Exports percentGDP</th>\n",
       "      <th>FDI</th>\n",
       "      <th>GDP</th>\n",
       "      <th>GDP growth</th>\n",
       "      <th>Imports percentGDP</th>\n",
       "      <th>Inflation</th>\n",
       "      <th>Population Density</th>\n",
       "      <th>Population Growth</th>\n",
       "      <th>Total Population</th>\n",
       "      <th>Total Surface Area</th>\n",
       "      <th>Population Growth Urban</th>\n",
       "    </tr>\n",
       "  </thead>\n",
       "  <tbody>\n",
       "    <tr>\n",
       "      <th>0</th>\n",
       "      <td>Afghanistan</td>\n",
       "      <td>AF</td>\n",
       "      <td>AFG</td>\n",
       "      <td>2020</td>\n",
       "      <td>0.0</td>\n",
       "      <td>1.297015e+07</td>\n",
       "      <td>2.011614e+10</td>\n",
       "      <td>-2.351101</td>\n",
       "      <td>0.0</td>\n",
       "      <td>7.821667</td>\n",
       "      <td>59.627395</td>\n",
       "      <td>2.303812</td>\n",
       "      <td>38928341.0</td>\n",
       "      <td>0.0</td>\n",
       "      <td>3.354421</td>\n",
       "    </tr>\n",
       "    <tr>\n",
       "      <th>1</th>\n",
       "      <td>Afghanistan</td>\n",
       "      <td>AF</td>\n",
       "      <td>AFG</td>\n",
       "      <td>2019</td>\n",
       "      <td>0.0</td>\n",
       "      <td>2.340455e+07</td>\n",
       "      <td>1.879945e+10</td>\n",
       "      <td>3.911603</td>\n",
       "      <td>0.0</td>\n",
       "      <td>6.521480</td>\n",
       "      <td>58.269395</td>\n",
       "      <td>2.313073</td>\n",
       "      <td>38041757.0</td>\n",
       "      <td>0.0</td>\n",
       "      <td>3.323827</td>\n",
       "    </tr>\n",
       "    <tr>\n",
       "      <th>2</th>\n",
       "      <td>Afghanistan</td>\n",
       "      <td>AF</td>\n",
       "      <td>AFG</td>\n",
       "      <td>2018</td>\n",
       "      <td>0.0</td>\n",
       "      <td>1.194351e+08</td>\n",
       "      <td>1.805323e+10</td>\n",
       "      <td>1.189228</td>\n",
       "      <td>0.0</td>\n",
       "      <td>2.071349</td>\n",
       "      <td>56.937049</td>\n",
       "      <td>2.384309</td>\n",
       "      <td>37171922.0</td>\n",
       "      <td>652860.0</td>\n",
       "      <td>3.349934</td>\n",
       "    </tr>\n",
       "    <tr>\n",
       "      <th>3</th>\n",
       "      <td>Afghanistan</td>\n",
       "      <td>AF</td>\n",
       "      <td>AFG</td>\n",
       "      <td>2017</td>\n",
       "      <td>0.0</td>\n",
       "      <td>5.153390e+07</td>\n",
       "      <td>1.875347e+10</td>\n",
       "      <td>2.647003</td>\n",
       "      <td>0.0</td>\n",
       "      <td>2.403656</td>\n",
       "      <td>55.595550</td>\n",
       "      <td>2.547833</td>\n",
       "      <td>36296111.0</td>\n",
       "      <td>652860.0</td>\n",
       "      <td>3.462893</td>\n",
       "    </tr>\n",
       "    <tr>\n",
       "      <th>4</th>\n",
       "      <td>Afghanistan</td>\n",
       "      <td>AF</td>\n",
       "      <td>AFG</td>\n",
       "      <td>2016</td>\n",
       "      <td>0.0</td>\n",
       "      <td>9.359132e+07</td>\n",
       "      <td>1.811656e+10</td>\n",
       "      <td>2.260314</td>\n",
       "      <td>0.0</td>\n",
       "      <td>-2.197526</td>\n",
       "      <td>54.196961</td>\n",
       "      <td>2.778035</td>\n",
       "      <td>35383028.0</td>\n",
       "      <td>652860.0</td>\n",
       "      <td>3.649128</td>\n",
       "    </tr>\n",
       "  </tbody>\n",
       "</table>\n",
       "</div>"
      ],
      "text/plain": [
       "       country country code countryiso3code  date  Exports percentGDP  \\\n",
       "0  Afghanistan           AF             AFG  2020                 0.0   \n",
       "1  Afghanistan           AF             AFG  2019                 0.0   \n",
       "2  Afghanistan           AF             AFG  2018                 0.0   \n",
       "3  Afghanistan           AF             AFG  2017                 0.0   \n",
       "4  Afghanistan           AF             AFG  2016                 0.0   \n",
       "\n",
       "            FDI           GDP  GDP growth  Imports percentGDP  Inflation  \\\n",
       "0  1.297015e+07  2.011614e+10   -2.351101                 0.0   7.821667   \n",
       "1  2.340455e+07  1.879945e+10    3.911603                 0.0   6.521480   \n",
       "2  1.194351e+08  1.805323e+10    1.189228                 0.0   2.071349   \n",
       "3  5.153390e+07  1.875347e+10    2.647003                 0.0   2.403656   \n",
       "4  9.359132e+07  1.811656e+10    2.260314                 0.0  -2.197526   \n",
       "\n",
       "   Population Density  Population Growth  Total Population  \\\n",
       "0           59.627395           2.303812        38928341.0   \n",
       "1           58.269395           2.313073        38041757.0   \n",
       "2           56.937049           2.384309        37171922.0   \n",
       "3           55.595550           2.547833        36296111.0   \n",
       "4           54.196961           2.778035        35383028.0   \n",
       "\n",
       "   Total Surface Area  Population Growth Urban  \n",
       "0                 0.0                 3.354421  \n",
       "1                 0.0                 3.323827  \n",
       "2            652860.0                 3.349934  \n",
       "3            652860.0                 3.462893  \n",
       "4            652860.0                 3.649128  "
      ]
     },
     "execution_count": 96,
     "metadata": {},
     "output_type": "execute_result"
    }
   ],
   "source": [
    "data_df.head(5)"
   ]
  },
  {
   "cell_type": "code",
   "execution_count": 97,
   "metadata": {},
   "outputs": [],
   "source": [
    "india_df = data_df[data_df['country']=='India'].drop(columns=['country code', 'countryiso3code'])"
   ]
  },
  {
   "cell_type": "code",
   "execution_count": 98,
   "metadata": {},
   "outputs": [],
   "source": [
    "#Making the FDI column as a percent of GDP rather than an absolute value\n",
    "india_df['FDI percentGDP'] = (india_df['FDI']/india_df['GDP'])*100"
   ]
  },
  {
   "cell_type": "code",
   "execution_count": 99,
   "metadata": {},
   "outputs": [
    {
     "data": {
      "text/html": [
       "<div>\n",
       "<style scoped>\n",
       "    .dataframe tbody tr th:only-of-type {\n",
       "        vertical-align: middle;\n",
       "    }\n",
       "\n",
       "    .dataframe tbody tr th {\n",
       "        vertical-align: top;\n",
       "    }\n",
       "\n",
       "    .dataframe thead th {\n",
       "        text-align: right;\n",
       "    }\n",
       "</style>\n",
       "<table border=\"1\" class=\"dataframe\">\n",
       "  <thead>\n",
       "    <tr style=\"text-align: right;\">\n",
       "      <th></th>\n",
       "      <th>country</th>\n",
       "      <th>date</th>\n",
       "      <th>Exports percentGDP</th>\n",
       "      <th>FDI</th>\n",
       "      <th>GDP</th>\n",
       "      <th>GDP growth</th>\n",
       "      <th>Imports percentGDP</th>\n",
       "      <th>Inflation</th>\n",
       "      <th>Population Density</th>\n",
       "      <th>Population Growth</th>\n",
       "      <th>Total Population</th>\n",
       "      <th>Total Surface Area</th>\n",
       "      <th>Population Growth Urban</th>\n",
       "      <th>FDI percentGDP</th>\n",
       "    </tr>\n",
       "  </thead>\n",
       "  <tbody>\n",
       "    <tr>\n",
       "      <th>1806</th>\n",
       "      <td>India</td>\n",
       "      <td>2020</td>\n",
       "      <td>18.708899</td>\n",
       "      <td>6.436236e+10</td>\n",
       "      <td>2.667688e+12</td>\n",
       "      <td>-6.596081</td>\n",
       "      <td>19.096455</td>\n",
       "      <td>5.600919</td>\n",
       "      <td>464.149410</td>\n",
       "      <td>0.989414</td>\n",
       "      <td>1.380004e+09</td>\n",
       "      <td>0.0</td>\n",
       "      <td>2.297828</td>\n",
       "      <td>2.412665</td>\n",
       "    </tr>\n",
       "    <tr>\n",
       "      <th>1807</th>\n",
       "      <td>India</td>\n",
       "      <td>2019</td>\n",
       "      <td>18.690983</td>\n",
       "      <td>5.061065e+10</td>\n",
       "      <td>2.831552e+12</td>\n",
       "      <td>3.737919</td>\n",
       "      <td>21.271545</td>\n",
       "      <td>2.390749</td>\n",
       "      <td>459.579696</td>\n",
       "      <td>1.013261</td>\n",
       "      <td>1.366418e+09</td>\n",
       "      <td>0.0</td>\n",
       "      <td>2.303752</td>\n",
       "      <td>1.787382</td>\n",
       "    </tr>\n",
       "    <tr>\n",
       "      <th>1808</th>\n",
       "      <td>India</td>\n",
       "      <td>2018</td>\n",
       "      <td>19.927829</td>\n",
       "      <td>4.211745e+10</td>\n",
       "      <td>2.702930e+12</td>\n",
       "      <td>6.453851</td>\n",
       "      <td>23.689141</td>\n",
       "      <td>3.884240</td>\n",
       "      <td>454.946466</td>\n",
       "      <td>1.037828</td>\n",
       "      <td>1.352642e+09</td>\n",
       "      <td>3287259.0</td>\n",
       "      <td>2.309470</td>\n",
       "      <td>1.558215</td>\n",
       "    </tr>\n",
       "    <tr>\n",
       "      <th>1809</th>\n",
       "      <td>India</td>\n",
       "      <td>2017</td>\n",
       "      <td>18.791765</td>\n",
       "      <td>3.996609e+10</td>\n",
       "      <td>2.651473e+12</td>\n",
       "      <td>6.795383</td>\n",
       "      <td>21.950732</td>\n",
       "      <td>3.969258</td>\n",
       "      <td>450.249321</td>\n",
       "      <td>1.063359</td>\n",
       "      <td>1.338677e+09</td>\n",
       "      <td>3287259.0</td>\n",
       "      <td>2.315210</td>\n",
       "      <td>1.507317</td>\n",
       "    </tr>\n",
       "    <tr>\n",
       "      <th>1810</th>\n",
       "      <td>India</td>\n",
       "      <td>2016</td>\n",
       "      <td>19.158235</td>\n",
       "      <td>4.445857e+10</td>\n",
       "      <td>2.294798e+12</td>\n",
       "      <td>8.256306</td>\n",
       "      <td>20.924251</td>\n",
       "      <td>3.237975</td>\n",
       "      <td>445.486918</td>\n",
       "      <td>1.090459</td>\n",
       "      <td>1.324517e+09</td>\n",
       "      <td>3287259.0</td>\n",
       "      <td>2.318510</td>\n",
       "      <td>1.937363</td>\n",
       "    </tr>\n",
       "  </tbody>\n",
       "</table>\n",
       "</div>"
      ],
      "text/plain": [
       "     country  date  Exports percentGDP           FDI           GDP  \\\n",
       "1806   India  2020           18.708899  6.436236e+10  2.667688e+12   \n",
       "1807   India  2019           18.690983  5.061065e+10  2.831552e+12   \n",
       "1808   India  2018           19.927829  4.211745e+10  2.702930e+12   \n",
       "1809   India  2017           18.791765  3.996609e+10  2.651473e+12   \n",
       "1810   India  2016           19.158235  4.445857e+10  2.294798e+12   \n",
       "\n",
       "      GDP growth  Imports percentGDP  Inflation  Population Density  \\\n",
       "1806   -6.596081           19.096455   5.600919          464.149410   \n",
       "1807    3.737919           21.271545   2.390749          459.579696   \n",
       "1808    6.453851           23.689141   3.884240          454.946466   \n",
       "1809    6.795383           21.950732   3.969258          450.249321   \n",
       "1810    8.256306           20.924251   3.237975          445.486918   \n",
       "\n",
       "      Population Growth  Total Population  Total Surface Area  \\\n",
       "1806           0.989414      1.380004e+09                 0.0   \n",
       "1807           1.013261      1.366418e+09                 0.0   \n",
       "1808           1.037828      1.352642e+09           3287259.0   \n",
       "1809           1.063359      1.338677e+09           3287259.0   \n",
       "1810           1.090459      1.324517e+09           3287259.0   \n",
       "\n",
       "      Population Growth Urban  FDI percentGDP  \n",
       "1806                 2.297828        2.412665  \n",
       "1807                 2.303752        1.787382  \n",
       "1808                 2.309470        1.558215  \n",
       "1809                 2.315210        1.507317  \n",
       "1810                 2.318510        1.937363  "
      ]
     },
     "execution_count": 99,
     "metadata": {},
     "output_type": "execute_result"
    }
   ],
   "source": [
    "india_df.head(5)"
   ]
  },
  {
   "cell_type": "code",
   "execution_count": 100,
   "metadata": {},
   "outputs": [
    {
     "data": {
      "text/plain": [
       "<AxesSubplot:xlabel='date', ylabel='GDP growth'>"
      ]
     },
     "execution_count": 100,
     "metadata": {},
     "output_type": "execute_result"
    },
    {
     "data": {
      "image/png": "[encoded data removed]",
      "text/plain": [
       "<Figure size 432x288 with 1 Axes>"
      ]
     },
     "metadata": {
      "needs_background": "light"
     },
     "output_type": "display_data"
    }
   ],
   "source": [
    "#plotting the GDP growth over the year\n",
    "sb.lineplot(x=india_df['date'],y= india_df['GDP growth'])\n",
    "sb.lineplot(x=india_df['date'],y= india_df['GDP growth'].rolling(5).mean())"
   ]
  },
  {
   "cell_type": "code",
   "execution_count": 101,
   "metadata": {},
   "outputs": [
    {
     "data": {
      "text/plain": [
       "<AxesSubplot:xlabel='date', ylabel='GDP'>"
      ]
     },
     "execution_count": 101,
     "metadata": {},
     "output_type": "execute_result"
    },
    {
     "data": {
      "image/png": "[encoded data removed]",
      "text/plain": [
       "<Figure size 432x288 with 1 Axes>"
      ]
     },
     "metadata": {
      "needs_background": "light"
     },
     "output_type": "display_data"
    }
   ],
   "source": [
    "sb.lineplot(x=india_df['date'], y=india_df['GDP'])\n",
    "sb.lineplot(x=india_df['date'], y=india_df['GDP'].rolling(5).mean())"
   ]
  },
  {
   "cell_type": "code",
   "execution_count": 102,
   "metadata": {},
   "outputs": [
    {
     "data": {
      "text/plain": [
       "<AxesSubplot:xlabel='date', ylabel='FDI percentGDP'>"
      ]
     },
     "execution_count": 102,
     "metadata": {},
     "output_type": "execute_result"
    },
    {
     "data": {
      "image/png": "[encoded data removed]",
      "text/plain": [
       "<Figure size 432x288 with 1 Axes>"
      ]
     },
     "metadata": {
      "needs_background": "light"
     },
     "output_type": "display_data"
    }
   ],
   "source": [
    "sb.lineplot(x=india_df['date'], y=india_df['FDI percentGDP'])\n",
    "sb.lineplot(x=india_df['date'], y=india_df['FDI percentGDP'].rolling(5).mean())"
   ]
  },
  {
   "cell_type": "code",
   "execution_count": 110,
   "metadata": {},
   "outputs": [
    {
     "data": {
      "text/plain": [
       "<AxesSubplot:xlabel='date', ylabel='Exports percentGDP'>"
      ]
     },
     "execution_count": 110,
     "metadata": {},
     "output_type": "execute_result"
    },
    {
     "data": {
      "image/png": "[encoded data removed]",
      "text/plain": [
       "<Figure size 432x288 with 1 Axes>"
      ]
     },
     "metadata": {
      "needs_background": "light"
     },
     "output_type": "display_data"
    }
   ],
   "source": [
    "sb.lineplot(x=india_df['date'], y=india_df['Exports percentGDP'])\n",
    "sb.lineplot(x=india_df['date'], y=india_df['Exports percentGDP'].rolling(5).mean())"
   ]
  },
  {
   "cell_type": "code",
   "execution_count": 103,
   "metadata": {},
   "outputs": [
    {
     "data": {
      "text/plain": [
       "<AxesSubplot:xlabel='date', ylabel='Imports percentGDP'>"
      ]
     },
     "execution_count": 103,
     "metadata": {},
     "output_type": "execute_result"
    },
    {
     "data": {
      "image/png": "[encoded data removed]",
      "text/plain": [
       "<Figure size 432x288 with 1 Axes>"
      ]
     },
     "metadata": {
      "needs_background": "light"
     },
     "output_type": "display_data"
    }
   ],
   "source": [
    "sb.lineplot(x=india_df['date'], y=india_df['Imports percentGDP'])\n",
    "sb.lineplot(x=india_df['date'], y=india_df['Imports percentGDP'].rolling(5).mean())"
   ]
  },
  {
   "cell_type": "code",
   "execution_count": 105,
   "metadata": {},
   "outputs": [
    {
     "data": {
      "text/plain": [
       "<AxesSubplot:xlabel='date', ylabel='Inflation'>"
      ]
     },
     "execution_count": 105,
     "metadata": {},
     "output_type": "execute_result"
    },
    {
     "data": {
      "image/png": "[encoded data removed]",
      "text/plain": [
       "<Figure size 432x288 with 1 Axes>"
      ]
     },
     "metadata": {
      "needs_background": "light"
     },
     "output_type": "display_data"
    }
   ],
   "source": [
    "sb.lineplot(x=india_df['date'], y=india_df['Inflation'])\n",
    "sb.lineplot(x=india_df['date'], y=india_df['Inflation'].rolling(5).mean())"
   ]
  },
  {
   "cell_type": "code",
   "execution_count": 104,
   "metadata": {},
   "outputs": [
    {
     "data": {
      "text/plain": [
       "<AxesSubplot:xlabel='date', ylabel='Population Growth'>"
      ]
     },
     "execution_count": 104,
     "metadata": {},
     "output_type": "execute_result"
    },
    {
     "data": {
      "image/png": "[encoded data removed]",
      "text/plain": [
       "<Figure size 432x288 with 1 Axes>"
      ]
     },
     "metadata": {
      "needs_background": "light"
     },
     "output_type": "display_data"
    }
   ],
   "source": [
    "sb.lineplot(x=india_df['date'], y=india_df['Population Growth'])\n",
    "sb.lineplot(x=india_df['date'], y=india_df['Population Growth Urban'])"
   ]
  },
  {
   "cell_type": "code",
   "execution_count": 108,
   "metadata": {},
   "outputs": [
    {
     "data": {
      "text/plain": [
       "<AxesSubplot:xlabel='GDP growth'>"
      ]
     },
     "execution_count": 108,
     "metadata": {},
     "output_type": "execute_result"
    },
    {
     "data": {
      "image/png": "[encoded data removed]",
      "text/plain": [
       "<Figure size 432x288 with 1 Axes>"
      ]
     },
     "metadata": {
      "needs_background": "light"
     },
     "output_type": "display_data"
    }
   ],
   "source": [
    "sb.boxplot(x=india_df['GDP growth'])"
   ]
  },
  {
   "cell_type": "code",
   "execution_count": null,
   "metadata": {},
   "outputs": [],
   "source": []
  },
  {
   "cell_type": "code",
   "execution_count": null,
   "metadata": {},
   "outputs": [],
   "source": []
  },
  {
   "cell_type": "code",
   "execution_count": null,
   "metadata": {},
   "outputs": [],
   "source": []
  },
  {
   "cell_type": "markdown",
   "metadata": {},
   "source": [
    "***Let us confine this analysis to top 10 countries based on some of the descriptor indicators as done below***"
   ]
  },
  {
   "cell_type": "code",
   "execution_count": null,
   "metadata": {},
   "outputs": [],
   "source": []
  },
  {
   "cell_type": "code",
   "execution_count": null,
   "metadata": {},
   "outputs": [],
   "source": []
  },
  {
   "cell_type": "code",
   "execution_count": null,
   "metadata": {},
   "outputs": [],
   "source": []
  },
  {
   "cell_type": "code",
   "execution_count": null,
   "metadata": {},
   "outputs": [],
   "source": []
  },
  {
   "cell_type": "markdown",
   "metadata": {},
   "source": [
    "- Top countries based on GDP size for the latest data"
   ]
  },
  {
   "cell_type": "code",
   "execution_count": null,
   "metadata": {},
   "outputs": [],
   "source": [
    "top_countries_by_gdp = data_df[data_df[\"date\"]==2020].sort_values(by=\"NY.GDP.MKTP.CD\", na_position=\"last\", ascending=False ).country.head(10)"
   ]
  },
  {
   "cell_type": "code",
   "execution_count": null,
   "metadata": {},
   "outputs": [],
   "source": [
    "top_countries_by_gdp"
   ]
  },
  {
   "cell_type": "markdown",
   "metadata": {},
   "source": [
    "- selecting top 10 countries by highest GDP growth averaged out over last 10 years, since considering only one year for growth factor may be misleading because of effects of short term phenomenon "
   ]
  },
  {
   "cell_type": "code",
   "execution_count": null,
   "metadata": {},
   "outputs": [],
   "source": [
    "top_countries_by_average_gdp = data_df.loc[data_df['date']>2015, ['country', 'NY.GDP.MKTP.KD.ZG']].groupby(by=['country']).mean().sort_values(by='NY.GDP.MKTP.KD.ZG',ascending=False).head(10)"
   ]
  },
  {
   "cell_type": "code",
   "execution_count": null,
   "metadata": {},
   "outputs": [],
   "source": [
    "top_countries_by_average_gdp"
   ]
  },
  {
   "cell_type": "markdown",
   "metadata": {},
   "source": [
    "- Profiling countries by largest population and highest growth rate of population"
   ]
  },
  {
   "cell_type": "code",
   "execution_count": null,
   "metadata": {},
   "outputs": [],
   "source": [
    "top_countries_by_pop = data_df[data_df[\"date\"]==2020].sort_values(by=\"SP.POP.TOTL\", na_position=\"last\", ascending=False ).country.head(10)"
   ]
  },
  {
   "cell_type": "code",
   "execution_count": null,
   "metadata": {},
   "outputs": [],
   "source": [
    "top_countries_by_pop"
   ]
  },
  {
   "cell_type": "code",
   "execution_count": null,
   "metadata": {},
   "outputs": [],
   "source": [
    "top_countries_by_average_popgrowth = data_df.loc[data_df['date']>2015, ['country', 'SP.POP.GROW']].groupby(by=['country']).mean().sort_values(by='SP.POP.GROW',ascending=False).head(10)"
   ]
  },
  {
   "cell_type": "code",
   "execution_count": null,
   "metadata": {},
   "outputs": [],
   "source": [
    "top_countries_by_average_popgrowth"
   ]
  },
  {
   "cell_type": "markdown",
   "metadata": {},
   "source": [
    "- we now have 4 parameters that can be used to base our analysis on - We will explore each set in the next sections"
   ]
  },
  {
   "cell_type": "markdown",
   "metadata": {},
   "source": [
    "# Top Countries by Population"
   ]
  },
  {
   "cell_type": "code",
   "execution_count": null,
   "metadata": {},
   "outputs": [],
   "source": [
    "indicator_df = data_df[data_df['country'].isin(top_countries_by_pop)]"
   ]
  },
  {
   "cell_type": "code",
   "execution_count": null,
   "metadata": {},
   "outputs": [],
   "source": [
    "indicator_df.drop(columns=['country code', 'countryiso3code'], inplace=True)"
   ]
  },
  {
   "cell_type": "code",
   "execution_count": null,
   "metadata": {},
   "outputs": [],
   "source": [
    "pivot = pd.pivot_table(indicator_df, values = 'NY.GDP.MKTP.KD.ZG' , index='country', columns='date')"
   ]
  },
  {
   "cell_type": "code",
   "execution_count": null,
   "metadata": {},
   "outputs": [],
   "source": [
    "pivot"
   ]
  },
  {
   "cell_type": "markdown",
   "metadata": {},
   "source": []
  }
 ],
 "metadata": {
  "kernelspec": {
   "display_name": "Python 3.10.5 64-bit (windows store)",
   "language": "python",
   "name": "python3"
  },
  "language_info": {
   "codemirror_mode": {
    "name": "ipython",
    "version": 3
   },
   "file_extension": ".py",
   "mimetype": "text/x-python",
   "name": "python",
   "nbconvert_exporter": "python",
   "pygments_lexer": "ipython3",
   "version": "3.10.5"
  },
  "orig_nbformat": 4,
  "vscode": {
   "interpreter": {
    "hash": "5fe2f6f2f340aab46f804e0c35515c906405c726b7b4590b7cc040ea75b732b3"
   }
  }
 },
 "nbformat": 4,
 "nbformat_minor": 2
}
