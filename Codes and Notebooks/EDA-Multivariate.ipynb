{
 "cells": [
  {
   "cell_type": "markdown",
   "metadata": {},
   "source": [
    "# EDA - Multivariate Analysis"
   ]
  },
  {
   "cell_type": "code",
   "execution_count": 1,
   "metadata": {},
   "outputs": [],
   "source": [
    "#import libraries\n",
    "import numpy as np\n",
    "import pandas as pd\n",
    "import seaborn as sb\n",
    "import matplotlib\n",
    "import matplotlib.pyplot as plt\n",
    "%matplotlib inline"
   ]
  },
  {
   "cell_type": "code",
   "execution_count": 2,
   "metadata": {},
   "outputs": [
    {
     "data": {
      "text/plain": [
       "Index(['country', 'country code', 'countryiso3code', 'date', 'NE.EXP.GNFS.ZS',\n",
       "       'BX.KLT.DINV.CD.WD', 'NY.GDP.MKTP.CD', 'NY.GDP.MKTP.KD.ZG',\n",
       "       'NE.IMP.GNFS.ZS', 'NY.GDP.DEFL.KD.ZG', 'EN.POP.DNST', 'SP.POP.GROW',\n",
       "       'SP.POP.TOTL', 'AG.SRF.TOTL.K2', 'SP.URB.GROW'],\n",
       "      dtype='object')"
      ]
     },
     "execution_count": 2,
     "metadata": {},
     "output_type": "execute_result"
    }
   ],
   "source": [
    "#read cleaned data for analysis\n",
    "data_df = pd.read_csv(\"D:\\Global_Economy_EDA\\Extracted Data\\IndicatorsData_cleaned.csv\") #data csv path\n",
    "data_df.columns"
   ]
  },
  {
   "cell_type": "code",
   "execution_count": 3,
   "metadata": {},
   "outputs": [],
   "source": [
    "column_rename = { 'NE.EXP.GNFS.ZS': 'Exports percentGDP',\n",
    "       'BX.KLT.DINV.CD.WD':'FDI', 'NY.GDP.MKTP.CD':'GDP', 'NY.GDP.MKTP.KD.ZG':'GDP growth',\n",
    "       'NE.IMP.GNFS.ZS':'Imports percentGDP', 'NY.GDP.DEFL.KD.ZG':'Inflation', 'EN.POP.DNST':'Population Density', 'SP.POP.GROW':'Population Growth',\n",
    "       'SP.POP.TOTL':'Total Population', 'AG.SRF.TOTL.K2':'Total Surface Area', 'SP.URB.GROW':'Population Growth Urban'\n",
    "}\n",
    "\n",
    "data_df.rename(column_rename,axis=1 ,inplace=True, errors='raise')"
   ]
  },
  {
   "cell_type": "markdown",
   "metadata": {},
   "source": [
    "***Let us confine this analysis to top 10 countries based on some of the descriptor indicators as done below***"
   ]
  },
  {
   "cell_type": "markdown",
   "metadata": {},
   "source": [
    "- Top countries based on GDP size for the latest data"
   ]
  },
  {
   "cell_type": "code",
   "execution_count": 5,
   "metadata": {},
   "outputs": [],
   "source": [
    "top_countries_by_gdp = data_df[data_df[\"date\"]==2020].sort_values(by=\"GDP\", na_position=\"last\", ascending=False ).country.head(10)"
   ]
  },
  {
   "cell_type": "code",
   "execution_count": null,
   "metadata": {},
   "outputs": [],
   "source": [
    "top_gdp = data_df[data_df[\"country\"] "
   ]
  },
  {
   "cell_type": "code",
   "execution_count": null,
   "metadata": {},
   "outputs": [],
   "source": []
  },
  {
   "cell_type": "markdown",
   "metadata": {},
   "source": [
    "- selecting top 10 countries by highest GDP growth averaged out over last 10 years, since considering only one year for growth factor may be misleading because of effects of short term phenomenon "
   ]
  },
  {
   "cell_type": "code",
   "execution_count": 7,
   "metadata": {},
   "outputs": [],
   "source": [
    "top_countries_by_average_gdp_growth = data_df.loc[data_df['date']>2015, ['country', 'GDP growth']].groupby(by=['country']).mean().sort_values(by='GDP growth',ascending=False).head(10)"
   ]
  },
  {
   "cell_type": "markdown",
   "metadata": {},
   "source": [
    "- Profiling countries by largest population and highest growth rate of population"
   ]
  },
  {
   "cell_type": "code",
   "execution_count": 9,
   "metadata": {},
   "outputs": [
    {
     "data": {
      "text/plain": [
       "840                  China\n",
       "1806                 India\n",
       "4200         United States\n",
       "1827             Indonesia\n",
       "3024              Pakistan\n",
       "546                 Brazil\n",
       "2919               Nigeria\n",
       "315             Bangladesh\n",
       "3276    Russian Federation\n",
       "2562                Mexico\n",
       "Name: country, dtype: object"
      ]
     },
     "execution_count": 9,
     "metadata": {},
     "output_type": "execute_result"
    }
   ],
   "source": [
    "top_countries_by_pop = data_df.loc[data_df['date']==2020].sort_values(by='Total Population', ascending=False).country.head(10 )\n",
    "top_countries_by_pop"
   ]
  },
  {
   "cell_type": "code",
   "execution_count": null,
   "metadata": {},
   "outputs": [],
   "source": []
  }
 ],
 "metadata": {
  "kernelspec": {
   "display_name": "Python 3.10.5 64-bit",
   "language": "python",
   "name": "python3"
  },
  "language_info": {
   "codemirror_mode": {
    "name": "ipython",
    "version": 3
   },
   "file_extension": ".py",
   "mimetype": "text/x-python",
   "name": "python",
   "nbconvert_exporter": "python",
   "pygments_lexer": "ipython3",
   "version": "3.10.5"
  },
  "orig_nbformat": 4,
  "vscode": {
   "interpreter": {
    "hash": "e0b73bf0396c54239b5db53fa6ce5020aa7061581eb5483dcd2fb5f36e3a8146"
   }
  }
 },
 "nbformat": 4,
 "nbformat_minor": 2
}
